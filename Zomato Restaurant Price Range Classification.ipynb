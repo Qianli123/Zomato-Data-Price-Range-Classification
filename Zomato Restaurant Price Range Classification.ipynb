{
 "cells": [
  {
   "cell_type": "markdown",
   "metadata": {},
   "source": [
    "### Author: Anmol Gandhi\n",
    "\n",
    "    \n",
    "#### Predicting Price Range of a Restaurant based on Zomata Restaurant Data "
   ]
  },
  {
   "cell_type": "code",
   "execution_count": 927,
   "metadata": {},
   "outputs": [],
   "source": [
    "%matplotlib inline\n",
    "import pandas as pd\n",
    "import matplotlib.pyplot as plt\n",
    "import seaborn as sns\n",
    "import numpy as np\n",
    "from sklearn.neighbors import KNeighborsClassifier\n",
    "from sklearn.tree import DecisionTreeClassifier\n",
    "from sklearn.ensemble import GradientBoostingClassifier\n",
    "from sklearn.linear_model import LogisticRegression\n",
    "from sklearn.ensemble import RandomForestClassifier\n",
    "from sklearn.ensemble import ExtraTreesClassifier\n",
    "from sklearn.naive_bayes import GaussianNB\n",
    "from sklearn.metrics import confusion_matrix, classification_report\n",
    "import time\n",
    "from sklearn.cluster import DBSCAN\n",
    "from sklearn import metrics\n",
    "from sklearn.model_selection import train_test_split1"
   ]
  },
  {
   "cell_type": "markdown",
   "metadata": {},
   "source": [
    "### Read the dataset "
   ]
  },
  {
   "cell_type": "code",
   "execution_count": 928,
   "metadata": {},
   "outputs": [],
   "source": [
    "data1 = pd.read_csv('./Documents/zomato.csv', encoding='latin-1')"
   ]
  },
  {
   "cell_type": "markdown",
   "metadata": {},
   "source": [
    "### Exploratory Data Analysis"
   ]
  },
  {
   "cell_type": "code",
   "execution_count": 929,
   "metadata": {},
   "outputs": [
    {
     "data": {
      "text/plain": [
       "Index(['Restaurant ID', 'Restaurant Name', 'Country Code', 'City', 'Address',\n",
       "       'Locality', 'Locality Verbose', 'Longitude', 'Latitude', 'Cuisines',\n",
       "       'Average Cost for two', 'Currency', 'Has Table booking',\n",
       "       'Has Online delivery', 'Is delivering now', 'Switch to order menu',\n",
       "       'Price range', 'Aggregate rating', 'Rating color', 'Rating text',\n",
       "       'Votes'],\n",
       "      dtype='object')"
      ]
     },
     "execution_count": 929,
     "metadata": {},
     "output_type": "execute_result"
    }
   ],
   "source": [
    "data1.columns"
   ]
  },
  {
   "cell_type": "code",
   "execution_count": 930,
   "metadata": {},
   "outputs": [],
   "source": [
    "def replace_values(data1,mask,column_name,value):\n",
    "    \"\"\"\n",
    "    input: data1 ---> DataFrame, mask---> Boolean Series, column_name ---> string, value ---> int\n",
    "    output: nothing\n",
    "    \n",
    "    This function is used to replace the values in the columns with the target value using a conditional statment\n",
    "    which produces a boolean mask.\n",
    "    \n",
    "    \"\"\"\n",
    "    data1.loc[mask, column_name] = value"
   ]
  },
  {
   "cell_type": "code",
   "execution_count": 931,
   "metadata": {},
   "outputs": [
    {
     "name": "stdout",
     "output_type": "stream",
     "text": [
      "This dataset contains 9551 rows and 21 columns\n"
     ]
    }
   ],
   "source": [
    "shape = data1.shape\n",
    "print(\"This dataset contains \"+ str(shape[0])+\" rows and \"+str(shape[1])+\" columns\")"
   ]
  },
  {
   "cell_type": "code",
   "execution_count": 932,
   "metadata": {},
   "outputs": [
    {
     "name": "stdout",
     "output_type": "stream",
     "text": [
      "<class 'pandas.core.frame.DataFrame'>\n",
      "RangeIndex: 9551 entries, 0 to 9550\n",
      "Data columns (total 21 columns):\n",
      "Restaurant ID           9551 non-null int64\n",
      "Restaurant Name         9551 non-null object\n",
      "Country Code            9551 non-null int64\n",
      "City                    9551 non-null object\n",
      "Address                 9551 non-null object\n",
      "Locality                9551 non-null object\n",
      "Locality Verbose        9551 non-null object\n",
      "Longitude               9551 non-null float64\n",
      "Latitude                9551 non-null float64\n",
      "Cuisines                9542 non-null object\n",
      "Average Cost for two    9551 non-null int64\n",
      "Currency                9551 non-null object\n",
      "Has Table booking       9551 non-null object\n",
      "Has Online delivery     9551 non-null object\n",
      "Is delivering now       9551 non-null object\n",
      "Switch to order menu    9551 non-null object\n",
      "Price range             9551 non-null int64\n",
      "Aggregate rating        9551 non-null float64\n",
      "Rating color            9551 non-null object\n",
      "Rating text             9551 non-null object\n",
      "Votes                   9551 non-null int64\n",
      "dtypes: float64(3), int64(5), object(13)\n",
      "memory usage: 1.5+ MB\n"
     ]
    }
   ],
   "source": [
    "data1.info()"
   ]
  },
  {
   "cell_type": "code",
   "execution_count": 933,
   "metadata": {},
   "outputs": [
    {
     "data": {
      "text/plain": [
       "Restaurant ID           0\n",
       "Restaurant Name         0\n",
       "Country Code            0\n",
       "City                    0\n",
       "Address                 0\n",
       "Locality                0\n",
       "Locality Verbose        0\n",
       "Longitude               0\n",
       "Latitude                0\n",
       "Cuisines                9\n",
       "Average Cost for two    0\n",
       "Currency                0\n",
       "Has Table booking       0\n",
       "Has Online delivery     0\n",
       "Is delivering now       0\n",
       "Switch to order menu    0\n",
       "Price range             0\n",
       "Aggregate rating        0\n",
       "Rating color            0\n",
       "Rating text             0\n",
       "Votes                   0\n",
       "dtype: int64"
      ]
     },
     "execution_count": 933,
     "metadata": {},
     "output_type": "execute_result"
    }
   ],
   "source": [
    "data1.isnull().sum()"
   ]
  },
  {
   "cell_type": "markdown",
   "metadata": {},
   "source": [
    "#### As we can see that only Cuisines has 9 NaN values, rest of the dataset is clean "
   ]
  },
  {
   "cell_type": "code",
   "execution_count": 934,
   "metadata": {},
   "outputs": [
    {
     "data": {
      "text/html": [
       "<div>\n",
       "<style scoped>\n",
       "    .dataframe tbody tr th:only-of-type {\n",
       "        vertical-align: middle;\n",
       "    }\n",
       "\n",
       "    .dataframe tbody tr th {\n",
       "        vertical-align: top;\n",
       "    }\n",
       "\n",
       "    .dataframe thead tr th {\n",
       "        text-align: left;\n",
       "    }\n",
       "\n",
       "    .dataframe thead tr:last-of-type th {\n",
       "        text-align: right;\n",
       "    }\n",
       "</style>\n",
       "<table border=\"1\" class=\"dataframe\">\n",
       "  <thead>\n",
       "    <tr>\n",
       "      <th></th>\n",
       "      <th colspan=\"8\" halign=\"left\">Aggregate rating</th>\n",
       "    </tr>\n",
       "    <tr>\n",
       "      <th></th>\n",
       "      <th>count</th>\n",
       "      <th>mean</th>\n",
       "      <th>std</th>\n",
       "      <th>min</th>\n",
       "      <th>25%</th>\n",
       "      <th>50%</th>\n",
       "      <th>75%</th>\n",
       "      <th>max</th>\n",
       "    </tr>\n",
       "    <tr>\n",
       "      <th>Country Code</th>\n",
       "      <th></th>\n",
       "      <th></th>\n",
       "      <th></th>\n",
       "      <th></th>\n",
       "      <th></th>\n",
       "      <th></th>\n",
       "      <th></th>\n",
       "      <th></th>\n",
       "    </tr>\n",
       "  </thead>\n",
       "  <tbody>\n",
       "    <tr>\n",
       "      <th>1</th>\n",
       "      <td>8652.0</td>\n",
       "      <td>2.523324</td>\n",
       "      <td>1.510986</td>\n",
       "      <td>0.0</td>\n",
       "      <td>2.100</td>\n",
       "      <td>3.10</td>\n",
       "      <td>3.600</td>\n",
       "      <td>4.9</td>\n",
       "    </tr>\n",
       "    <tr>\n",
       "      <th>14</th>\n",
       "      <td>24.0</td>\n",
       "      <td>3.658333</td>\n",
       "      <td>0.523298</td>\n",
       "      <td>2.4</td>\n",
       "      <td>3.500</td>\n",
       "      <td>3.70</td>\n",
       "      <td>3.875</td>\n",
       "      <td>4.6</td>\n",
       "    </tr>\n",
       "    <tr>\n",
       "      <th>30</th>\n",
       "      <td>60.0</td>\n",
       "      <td>3.763333</td>\n",
       "      <td>1.253195</td>\n",
       "      <td>0.0</td>\n",
       "      <td>3.600</td>\n",
       "      <td>4.15</td>\n",
       "      <td>4.500</td>\n",
       "      <td>4.9</td>\n",
       "    </tr>\n",
       "    <tr>\n",
       "      <th>37</th>\n",
       "      <td>4.0</td>\n",
       "      <td>3.575000</td>\n",
       "      <td>0.561991</td>\n",
       "      <td>3.0</td>\n",
       "      <td>3.225</td>\n",
       "      <td>3.50</td>\n",
       "      <td>3.850</td>\n",
       "      <td>4.3</td>\n",
       "    </tr>\n",
       "    <tr>\n",
       "      <th>94</th>\n",
       "      <td>21.0</td>\n",
       "      <td>4.295238</td>\n",
       "      <td>0.428341</td>\n",
       "      <td>3.4</td>\n",
       "      <td>4.000</td>\n",
       "      <td>4.30</td>\n",
       "      <td>4.600</td>\n",
       "      <td>4.9</td>\n",
       "    </tr>\n",
       "    <tr>\n",
       "      <th>148</th>\n",
       "      <td>40.0</td>\n",
       "      <td>4.262500</td>\n",
       "      <td>0.433050</td>\n",
       "      <td>2.3</td>\n",
       "      <td>4.100</td>\n",
       "      <td>4.30</td>\n",
       "      <td>4.500</td>\n",
       "      <td>4.9</td>\n",
       "    </tr>\n",
       "    <tr>\n",
       "      <th>162</th>\n",
       "      <td>22.0</td>\n",
       "      <td>4.468182</td>\n",
       "      <td>0.345566</td>\n",
       "      <td>3.6</td>\n",
       "      <td>4.225</td>\n",
       "      <td>4.50</td>\n",
       "      <td>4.800</td>\n",
       "      <td>4.9</td>\n",
       "    </tr>\n",
       "    <tr>\n",
       "      <th>166</th>\n",
       "      <td>20.0</td>\n",
       "      <td>4.060000</td>\n",
       "      <td>0.418519</td>\n",
       "      <td>3.4</td>\n",
       "      <td>3.800</td>\n",
       "      <td>4.00</td>\n",
       "      <td>4.325</td>\n",
       "      <td>4.9</td>\n",
       "    </tr>\n",
       "    <tr>\n",
       "      <th>184</th>\n",
       "      <td>20.0</td>\n",
       "      <td>3.575000</td>\n",
       "      <td>0.390512</td>\n",
       "      <td>3.0</td>\n",
       "      <td>3.200</td>\n",
       "      <td>3.75</td>\n",
       "      <td>3.900</td>\n",
       "      <td>4.2</td>\n",
       "    </tr>\n",
       "    <tr>\n",
       "      <th>189</th>\n",
       "      <td>60.0</td>\n",
       "      <td>4.210000</td>\n",
       "      <td>0.331765</td>\n",
       "      <td>3.4</td>\n",
       "      <td>4.000</td>\n",
       "      <td>4.20</td>\n",
       "      <td>4.400</td>\n",
       "      <td>4.9</td>\n",
       "    </tr>\n",
       "    <tr>\n",
       "      <th>191</th>\n",
       "      <td>20.0</td>\n",
       "      <td>3.870000</td>\n",
       "      <td>0.590361</td>\n",
       "      <td>2.4</td>\n",
       "      <td>3.675</td>\n",
       "      <td>4.00</td>\n",
       "      <td>4.200</td>\n",
       "      <td>4.9</td>\n",
       "    </tr>\n",
       "    <tr>\n",
       "      <th>208</th>\n",
       "      <td>34.0</td>\n",
       "      <td>4.300000</td>\n",
       "      <td>0.347284</td>\n",
       "      <td>3.4</td>\n",
       "      <td>4.200</td>\n",
       "      <td>4.30</td>\n",
       "      <td>4.500</td>\n",
       "      <td>4.9</td>\n",
       "    </tr>\n",
       "    <tr>\n",
       "      <th>214</th>\n",
       "      <td>60.0</td>\n",
       "      <td>4.233333</td>\n",
       "      <td>0.421726</td>\n",
       "      <td>2.4</td>\n",
       "      <td>4.000</td>\n",
       "      <td>4.25</td>\n",
       "      <td>4.500</td>\n",
       "      <td>4.9</td>\n",
       "    </tr>\n",
       "    <tr>\n",
       "      <th>215</th>\n",
       "      <td>80.0</td>\n",
       "      <td>4.087500</td>\n",
       "      <td>0.633331</td>\n",
       "      <td>0.0</td>\n",
       "      <td>3.875</td>\n",
       "      <td>4.10</td>\n",
       "      <td>4.500</td>\n",
       "      <td>4.9</td>\n",
       "    </tr>\n",
       "    <tr>\n",
       "      <th>216</th>\n",
       "      <td>434.0</td>\n",
       "      <td>4.004378</td>\n",
       "      <td>0.527230</td>\n",
       "      <td>0.0</td>\n",
       "      <td>3.700</td>\n",
       "      <td>4.00</td>\n",
       "      <td>4.300</td>\n",
       "      <td>4.9</td>\n",
       "    </tr>\n",
       "  </tbody>\n",
       "</table>\n",
       "</div>"
      ],
      "text/plain": [
       "             Aggregate rating                                               \\\n",
       "                        count      mean       std  min    25%   50%    75%   \n",
       "Country Code                                                                 \n",
       "1                      8652.0  2.523324  1.510986  0.0  2.100  3.10  3.600   \n",
       "14                       24.0  3.658333  0.523298  2.4  3.500  3.70  3.875   \n",
       "30                       60.0  3.763333  1.253195  0.0  3.600  4.15  4.500   \n",
       "37                        4.0  3.575000  0.561991  3.0  3.225  3.50  3.850   \n",
       "94                       21.0  4.295238  0.428341  3.4  4.000  4.30  4.600   \n",
       "148                      40.0  4.262500  0.433050  2.3  4.100  4.30  4.500   \n",
       "162                      22.0  4.468182  0.345566  3.6  4.225  4.50  4.800   \n",
       "166                      20.0  4.060000  0.418519  3.4  3.800  4.00  4.325   \n",
       "184                      20.0  3.575000  0.390512  3.0  3.200  3.75  3.900   \n",
       "189                      60.0  4.210000  0.331765  3.4  4.000  4.20  4.400   \n",
       "191                      20.0  3.870000  0.590361  2.4  3.675  4.00  4.200   \n",
       "208                      34.0  4.300000  0.347284  3.4  4.200  4.30  4.500   \n",
       "214                      60.0  4.233333  0.421726  2.4  4.000  4.25  4.500   \n",
       "215                      80.0  4.087500  0.633331  0.0  3.875  4.10  4.500   \n",
       "216                     434.0  4.004378  0.527230  0.0  3.700  4.00  4.300   \n",
       "\n",
       "                   \n",
       "              max  \n",
       "Country Code       \n",
       "1             4.9  \n",
       "14            4.6  \n",
       "30            4.9  \n",
       "37            4.3  \n",
       "94            4.9  \n",
       "148           4.9  \n",
       "162           4.9  \n",
       "166           4.9  \n",
       "184           4.2  \n",
       "189           4.9  \n",
       "191           4.9  \n",
       "208           4.9  \n",
       "214           4.9  \n",
       "215           4.9  \n",
       "216           4.9  "
      ]
     },
     "execution_count": 934,
     "metadata": {},
     "output_type": "execute_result"
    }
   ],
   "source": [
    "data1[[\"Country Code\",\"Aggregate rating\"]].groupby(\"Country Code\").describe()"
   ]
  },
  {
   "cell_type": "markdown",
   "metadata": {},
   "source": [
    "#### I performed some groupby function to describe the aggregate rating grouping the country code column, Surprisingly we can only see that the whole dataset in dominated by the country code 1 but also has some values for country code 216"
   ]
  },
  {
   "cell_type": "code",
   "execution_count": 935,
   "metadata": {},
   "outputs": [
    {
     "data": {
      "text/plain": [
       "<matplotlib.axes._subplots.AxesSubplot at 0x1a3765fd30>"
      ]
     },
     "execution_count": 935,
     "metadata": {},
     "output_type": "execute_result"
    },
    {
     "data": {
      "image/png": "[encoded data removed]",
      "text/plain": [
       "<matplotlib.figure.Figure at 0x1a35b659e8>"
      ]
     },
     "metadata": {},
     "output_type": "display_data"
    }
   ],
   "source": [
    "sns.boxplot(data1[\"Country Code\"],data1[\"Aggregate rating\"])"
   ]
  },
  {
   "cell_type": "markdown",
   "metadata": {},
   "source": [
    "#### Further to understand more about country code and aggregate rating i did some visualisation in which i plotted a boxpot for every country code and now its evident that Country code 1 is the maximum, my initial assumption is country code 1 is india as Zomato is an indian company"
   ]
  },
  {
   "cell_type": "code",
   "execution_count": 936,
   "metadata": {},
   "outputs": [],
   "source": [
    "# We only keep data with country code 1 and remove the column Country Code and Currency as all rows now represents \n",
    "# the same country\n",
    "\n",
    "\n",
    "data1 = data1[data1[\"Country Code\"] == 1]\n",
    "data1 = data1.drop([\"Country Code\",\"Currency\"],1)"
   ]
  },
  {
   "cell_type": "code",
   "execution_count": 937,
   "metadata": {},
   "outputs": [
    {
     "data": {
      "text/html": [
       "<div>\n",
       "<style scoped>\n",
       "    .dataframe tbody tr th:only-of-type {\n",
       "        vertical-align: middle;\n",
       "    }\n",
       "\n",
       "    .dataframe tbody tr th {\n",
       "        vertical-align: top;\n",
       "    }\n",
       "\n",
       "    .dataframe thead tr th {\n",
       "        text-align: left;\n",
       "    }\n",
       "\n",
       "    .dataframe thead tr:last-of-type th {\n",
       "        text-align: right;\n",
       "    }\n",
       "</style>\n",
       "<table border=\"1\" class=\"dataframe\">\n",
       "  <thead>\n",
       "    <tr>\n",
       "      <th></th>\n",
       "      <th colspan=\"8\" halign=\"left\">Aggregate rating</th>\n",
       "    </tr>\n",
       "    <tr>\n",
       "      <th></th>\n",
       "      <th>count</th>\n",
       "      <th>mean</th>\n",
       "      <th>std</th>\n",
       "      <th>min</th>\n",
       "      <th>25%</th>\n",
       "      <th>50%</th>\n",
       "      <th>75%</th>\n",
       "      <th>max</th>\n",
       "    </tr>\n",
       "    <tr>\n",
       "      <th>Rating color</th>\n",
       "      <th></th>\n",
       "      <th></th>\n",
       "      <th></th>\n",
       "      <th></th>\n",
       "      <th></th>\n",
       "      <th></th>\n",
       "      <th></th>\n",
       "      <th></th>\n",
       "    </tr>\n",
       "  </thead>\n",
       "  <tbody>\n",
       "    <tr>\n",
       "      <th>Dark Green</th>\n",
       "      <td>116.0</td>\n",
       "      <td>4.646552</td>\n",
       "      <td>0.142908</td>\n",
       "      <td>4.5</td>\n",
       "      <td>4.5</td>\n",
       "      <td>4.6</td>\n",
       "      <td>4.7</td>\n",
       "      <td>4.9</td>\n",
       "    </tr>\n",
       "    <tr>\n",
       "      <th>Green</th>\n",
       "      <td>692.0</td>\n",
       "      <td>4.153324</td>\n",
       "      <td>0.131903</td>\n",
       "      <td>4.0</td>\n",
       "      <td>4.0</td>\n",
       "      <td>4.1</td>\n",
       "      <td>4.3</td>\n",
       "      <td>4.4</td>\n",
       "    </tr>\n",
       "    <tr>\n",
       "      <th>Orange</th>\n",
       "      <td>3678.0</td>\n",
       "      <td>3.048722</td>\n",
       "      <td>0.251235</td>\n",
       "      <td>2.5</td>\n",
       "      <td>2.9</td>\n",
       "      <td>3.1</td>\n",
       "      <td>3.3</td>\n",
       "      <td>3.4</td>\n",
       "    </tr>\n",
       "    <tr>\n",
       "      <th>Red</th>\n",
       "      <td>180.0</td>\n",
       "      <td>2.296111</td>\n",
       "      <td>0.127004</td>\n",
       "      <td>1.8</td>\n",
       "      <td>2.2</td>\n",
       "      <td>2.3</td>\n",
       "      <td>2.4</td>\n",
       "      <td>2.4</td>\n",
       "    </tr>\n",
       "    <tr>\n",
       "      <th>White</th>\n",
       "      <td>2139.0</td>\n",
       "      <td>0.000000</td>\n",
       "      <td>0.000000</td>\n",
       "      <td>0.0</td>\n",
       "      <td>0.0</td>\n",
       "      <td>0.0</td>\n",
       "      <td>0.0</td>\n",
       "      <td>0.0</td>\n",
       "    </tr>\n",
       "    <tr>\n",
       "      <th>Yellow</th>\n",
       "      <td>1847.0</td>\n",
       "      <td>3.677423</td>\n",
       "      <td>0.139665</td>\n",
       "      <td>3.5</td>\n",
       "      <td>3.6</td>\n",
       "      <td>3.7</td>\n",
       "      <td>3.8</td>\n",
       "      <td>3.9</td>\n",
       "    </tr>\n",
       "  </tbody>\n",
       "</table>\n",
       "</div>"
      ],
      "text/plain": [
       "             Aggregate rating                                             \n",
       "                        count      mean       std  min  25%  50%  75%  max\n",
       "Rating color                                                              \n",
       "Dark Green              116.0  4.646552  0.142908  4.5  4.5  4.6  4.7  4.9\n",
       "Green                   692.0  4.153324  0.131903  4.0  4.0  4.1  4.3  4.4\n",
       "Orange                 3678.0  3.048722  0.251235  2.5  2.9  3.1  3.3  3.4\n",
       "Red                     180.0  2.296111  0.127004  1.8  2.2  2.3  2.4  2.4\n",
       "White                  2139.0  0.000000  0.000000  0.0  0.0  0.0  0.0  0.0\n",
       "Yellow                 1847.0  3.677423  0.139665  3.5  3.6  3.7  3.8  3.9"
      ]
     },
     "execution_count": 937,
     "metadata": {},
     "output_type": "execute_result"
    }
   ],
   "source": [
    "data1[[\"Rating color\",\"Aggregate rating\"]].groupby(\"Rating color\").describe()"
   ]
  },
  {
   "cell_type": "markdown",
   "metadata": {},
   "source": [
    "#### Now I perform the groupby on Rating color to see how the Aggregate rating is described in the data, as we can see there are around 2139 restaurants which are not rated resetaurants and hence decide not to include thme in the analysis"
   ]
  },
  {
   "cell_type": "code",
   "execution_count": 938,
   "metadata": {},
   "outputs": [],
   "source": [
    "data1 = data1[data1[\"Aggregate rating\"] > 0]"
   ]
  },
  {
   "cell_type": "markdown",
   "metadata": {},
   "source": [
    "### Feature Engineering"
   ]
  },
  {
   "cell_type": "code",
   "execution_count": null,
   "metadata": {},
   "outputs": [],
   "source": []
  },
  {
   "cell_type": "markdown",
   "metadata": {},
   "source": [
    "#### Now i want to check if the length of the name of the restaurant influence the data in any sort"
   ]
  },
  {
   "cell_type": "code",
   "execution_count": 939,
   "metadata": {},
   "outputs": [],
   "source": [
    "data1[\"length\"] = data1[\"Restaurant Name\"].apply(len)"
   ]
  },
  {
   "cell_type": "code",
   "execution_count": 940,
   "metadata": {},
   "outputs": [
    {
     "data": {
      "text/plain": [
       "(array([ 739., 1960., 2059.,  954.,  427.,  239.,   80.,   35.,   13.,\n",
       "           7.]),\n",
       " array([ 2. ,  7.2, 12.4, 17.6, 22.8, 28. , 33.2, 38.4, 43.6, 48.8, 54. ]),\n",
       " <a list of 10 Patch objects>)"
      ]
     },
     "execution_count": 940,
     "metadata": {},
     "output_type": "execute_result"
    },
    {
     "data": {
      "image/png": "[encoded data removed]",
      "text/plain": [
       "<matplotlib.figure.Figure at 0x1a37674550>"
      ]
     },
     "metadata": {},
     "output_type": "display_data"
    }
   ],
   "source": [
    "#### Here we can see that most of the restaurants and names around 10-15 characters longh\n",
    "\n",
    "plt.hist(data1.length)"
   ]
  },
  {
   "cell_type": "code",
   "execution_count": 941,
   "metadata": {},
   "outputs": [
    {
     "data": {
      "image/png": "[encoded data removed]",
      "text/plain": [
       "<matplotlib.figure.Figure at 0x1a35a8a048>"
      ]
     },
     "metadata": {},
     "output_type": "display_data"
    }
   ],
   "source": [
    "sns.jointplot(x=data1.length, y=data1[\"Aggregate rating\"], data=data1);"
   ]
  },
  {
   "cell_type": "markdown",
   "metadata": {},
   "source": [
    "#### Here we can see that there is not much influence of the length of text to the aggregate rating"
   ]
  },
  {
   "cell_type": "code",
   "execution_count": 942,
   "metadata": {},
   "outputs": [
    {
     "data": {
      "image/png": "[encoded data removed]",
      "text/plain": [
       "<matplotlib.figure.Figure at 0x1a387bb780>"
      ]
     },
     "metadata": {},
     "output_type": "display_data"
    }
   ],
   "source": [
    "sns.boxplot(x=data1[\"Price range\"], y=data1.length, data=data1);"
   ]
  },
  {
   "cell_type": "markdown",
   "metadata": {},
   "source": [
    "#### As we can see for price range 1,2,3 it the length lies between 10-20 while price range 4 is more distributed from 15-30 character, there lies some corelation but not much influence"
   ]
  },
  {
   "cell_type": "code",
   "execution_count": 943,
   "metadata": {},
   "outputs": [],
   "source": [
    "### Here i want to extract how manu cuisines does the restaurant serve and this will help us to determine any relation \n",
    "### between price range and number of cuisines\n",
    "data1[\"Number of Cuisines\"] = data1.Cuisines.apply(lambda X: len(X.split()))"
   ]
  },
  {
   "cell_type": "code",
   "execution_count": 944,
   "metadata": {},
   "outputs": [
    {
     "data": {
      "text/plain": [
       "(array([4343., 1638.,  443.,   52.,   37.]),\n",
       " array([ 1. ,  3.2,  5.4,  7.6,  9.8, 12. ]),\n",
       " <a list of 5 Patch objects>)"
      ]
     },
     "execution_count": 944,
     "metadata": {},
     "output_type": "execute_result"
    },
    {
     "data": {
      "image/png": "[encoded data removed]",
      "text/plain": [
       "<matplotlib.figure.Figure at 0x1a35b72e80>"
      ]
     },
     "metadata": {},
     "output_type": "display_data"
    }
   ],
   "source": [
    "plt.hist(data1[\"Number of Cuisines\"],bins =5)"
   ]
  },
  {
   "cell_type": "markdown",
   "metadata": {},
   "source": [
    "#### As we can see the data looks to be a bit right skewed and peaks at 1-3  that means most of the restaurants serve just 1-3 cuisines "
   ]
  },
  {
   "cell_type": "code",
   "execution_count": 945,
   "metadata": {},
   "outputs": [
    {
     "data": {
      "image/png": "[encoded data removed]",
      "text/plain": [
       "<matplotlib.figure.Figure at 0x1a363f09b0>"
      ]
     },
     "metadata": {},
     "output_type": "display_data"
    }
   ],
   "source": [
    "sns.boxplot(x=data1[\"Price range\"], y=data1[\"Number of Cuisines\"], data=data1);"
   ]
  },
  {
   "cell_type": "code",
   "execution_count": 946,
   "metadata": {},
   "outputs": [
    {
     "data": {
      "text/html": [
       "<div>\n",
       "<style scoped>\n",
       "    .dataframe tbody tr th:only-of-type {\n",
       "        vertical-align: middle;\n",
       "    }\n",
       "\n",
       "    .dataframe tbody tr th {\n",
       "        vertical-align: top;\n",
       "    }\n",
       "\n",
       "    .dataframe thead tr th {\n",
       "        text-align: left;\n",
       "    }\n",
       "\n",
       "    .dataframe thead tr:last-of-type th {\n",
       "        text-align: right;\n",
       "    }\n",
       "</style>\n",
       "<table border=\"1\" class=\"dataframe\">\n",
       "  <thead>\n",
       "    <tr>\n",
       "      <th></th>\n",
       "      <th colspan=\"8\" halign=\"left\">Aggregate rating</th>\n",
       "    </tr>\n",
       "    <tr>\n",
       "      <th></th>\n",
       "      <th>count</th>\n",
       "      <th>mean</th>\n",
       "      <th>std</th>\n",
       "      <th>min</th>\n",
       "      <th>25%</th>\n",
       "      <th>50%</th>\n",
       "      <th>75%</th>\n",
       "      <th>max</th>\n",
       "    </tr>\n",
       "    <tr>\n",
       "      <th>Number of Cuisines</th>\n",
       "      <th></th>\n",
       "      <th></th>\n",
       "      <th></th>\n",
       "      <th></th>\n",
       "      <th></th>\n",
       "      <th></th>\n",
       "      <th></th>\n",
       "      <th></th>\n",
       "    </tr>\n",
       "  </thead>\n",
       "  <tbody>\n",
       "    <tr>\n",
       "      <th>1</th>\n",
       "      <td>927.0</td>\n",
       "      <td>3.337756</td>\n",
       "      <td>0.461309</td>\n",
       "      <td>2.0</td>\n",
       "      <td>3.00</td>\n",
       "      <td>3.30</td>\n",
       "      <td>3.700</td>\n",
       "      <td>4.7</td>\n",
       "    </tr>\n",
       "    <tr>\n",
       "      <th>2</th>\n",
       "      <td>1520.0</td>\n",
       "      <td>3.366579</td>\n",
       "      <td>0.481728</td>\n",
       "      <td>2.0</td>\n",
       "      <td>3.00</td>\n",
       "      <td>3.30</td>\n",
       "      <td>3.700</td>\n",
       "      <td>4.9</td>\n",
       "    </tr>\n",
       "    <tr>\n",
       "      <th>3</th>\n",
       "      <td>1896.0</td>\n",
       "      <td>3.286551</td>\n",
       "      <td>0.501747</td>\n",
       "      <td>1.8</td>\n",
       "      <td>2.90</td>\n",
       "      <td>3.30</td>\n",
       "      <td>3.600</td>\n",
       "      <td>4.9</td>\n",
       "    </tr>\n",
       "    <tr>\n",
       "      <th>4</th>\n",
       "      <td>1090.0</td>\n",
       "      <td>3.391651</td>\n",
       "      <td>0.534841</td>\n",
       "      <td>2.0</td>\n",
       "      <td>3.00</td>\n",
       "      <td>3.40</td>\n",
       "      <td>3.800</td>\n",
       "      <td>4.9</td>\n",
       "    </tr>\n",
       "    <tr>\n",
       "      <th>5</th>\n",
       "      <td>548.0</td>\n",
       "      <td>3.449088</td>\n",
       "      <td>0.521020</td>\n",
       "      <td>2.0</td>\n",
       "      <td>3.10</td>\n",
       "      <td>3.50</td>\n",
       "      <td>3.800</td>\n",
       "      <td>4.9</td>\n",
       "    </tr>\n",
       "    <tr>\n",
       "      <th>6</th>\n",
       "      <td>329.0</td>\n",
       "      <td>3.367477</td>\n",
       "      <td>0.530824</td>\n",
       "      <td>1.9</td>\n",
       "      <td>3.00</td>\n",
       "      <td>3.40</td>\n",
       "      <td>3.800</td>\n",
       "      <td>4.7</td>\n",
       "    </tr>\n",
       "    <tr>\n",
       "      <th>7</th>\n",
       "      <td>114.0</td>\n",
       "      <td>3.486842</td>\n",
       "      <td>0.550062</td>\n",
       "      <td>2.0</td>\n",
       "      <td>3.10</td>\n",
       "      <td>3.50</td>\n",
       "      <td>3.900</td>\n",
       "      <td>4.7</td>\n",
       "    </tr>\n",
       "    <tr>\n",
       "      <th>8</th>\n",
       "      <td>37.0</td>\n",
       "      <td>3.359459</td>\n",
       "      <td>0.615747</td>\n",
       "      <td>2.4</td>\n",
       "      <td>2.80</td>\n",
       "      <td>3.40</td>\n",
       "      <td>3.900</td>\n",
       "      <td>4.4</td>\n",
       "    </tr>\n",
       "    <tr>\n",
       "      <th>9</th>\n",
       "      <td>15.0</td>\n",
       "      <td>3.126667</td>\n",
       "      <td>0.652979</td>\n",
       "      <td>2.5</td>\n",
       "      <td>2.65</td>\n",
       "      <td>2.90</td>\n",
       "      <td>3.350</td>\n",
       "      <td>4.5</td>\n",
       "    </tr>\n",
       "    <tr>\n",
       "      <th>10</th>\n",
       "      <td>12.0</td>\n",
       "      <td>3.175000</td>\n",
       "      <td>0.597152</td>\n",
       "      <td>2.1</td>\n",
       "      <td>2.85</td>\n",
       "      <td>3.35</td>\n",
       "      <td>3.575</td>\n",
       "      <td>3.9</td>\n",
       "    </tr>\n",
       "    <tr>\n",
       "      <th>11</th>\n",
       "      <td>18.0</td>\n",
       "      <td>3.477778</td>\n",
       "      <td>0.370303</td>\n",
       "      <td>2.5</td>\n",
       "      <td>3.35</td>\n",
       "      <td>3.60</td>\n",
       "      <td>3.675</td>\n",
       "      <td>4.0</td>\n",
       "    </tr>\n",
       "    <tr>\n",
       "      <th>12</th>\n",
       "      <td>7.0</td>\n",
       "      <td>3.557143</td>\n",
       "      <td>0.171825</td>\n",
       "      <td>3.4</td>\n",
       "      <td>3.40</td>\n",
       "      <td>3.50</td>\n",
       "      <td>3.700</td>\n",
       "      <td>3.8</td>\n",
       "    </tr>\n",
       "  </tbody>\n",
       "</table>\n",
       "</div>"
      ],
      "text/plain": [
       "                   Aggregate rating                                       \\\n",
       "                              count      mean       std  min   25%   50%   \n",
       "Number of Cuisines                                                         \n",
       "1                             927.0  3.337756  0.461309  2.0  3.00  3.30   \n",
       "2                            1520.0  3.366579  0.481728  2.0  3.00  3.30   \n",
       "3                            1896.0  3.286551  0.501747  1.8  2.90  3.30   \n",
       "4                            1090.0  3.391651  0.534841  2.0  3.00  3.40   \n",
       "5                             548.0  3.449088  0.521020  2.0  3.10  3.50   \n",
       "6                             329.0  3.367477  0.530824  1.9  3.00  3.40   \n",
       "7                             114.0  3.486842  0.550062  2.0  3.10  3.50   \n",
       "8                              37.0  3.359459  0.615747  2.4  2.80  3.40   \n",
       "9                              15.0  3.126667  0.652979  2.5  2.65  2.90   \n",
       "10                             12.0  3.175000  0.597152  2.1  2.85  3.35   \n",
       "11                             18.0  3.477778  0.370303  2.5  3.35  3.60   \n",
       "12                              7.0  3.557143  0.171825  3.4  3.40  3.50   \n",
       "\n",
       "                                \n",
       "                      75%  max  \n",
       "Number of Cuisines              \n",
       "1                   3.700  4.7  \n",
       "2                   3.700  4.9  \n",
       "3                   3.600  4.9  \n",
       "4                   3.800  4.9  \n",
       "5                   3.800  4.9  \n",
       "6                   3.800  4.7  \n",
       "7                   3.900  4.7  \n",
       "8                   3.900  4.4  \n",
       "9                   3.350  4.5  \n",
       "10                  3.575  3.9  \n",
       "11                  3.675  4.0  \n",
       "12                  3.700  3.8  "
      ]
     },
     "execution_count": 946,
     "metadata": {},
     "output_type": "execute_result"
    }
   ],
   "source": [
    "data1[[\"Number of Cuisines\",\"Aggregate rating\"]].groupby(\"Number of Cuisines\").describe()"
   ]
  },
  {
   "cell_type": "code",
   "execution_count": 947,
   "metadata": {},
   "outputs": [
    {
     "name": "stdout",
     "output_type": "stream",
     "text": [
      "Clustered 6,513 points down to 294 clusters, for 95.5% compression in 0.21 seconds\n"
     ]
    }
   ],
   "source": [
    "\n",
    "# define the number of kilometers in one radian\n",
    "kms_per_radian = 6371.0088\n",
    "# represent points consistently as (lat, lon)\n",
    "coords = data1[[\"Latitude\",\"Longitude\"]]\n",
    "# define epsilon as 1.5 kilometers, converted to radians for use by haversine\n",
    "epsilon = 1 / kms_per_radian\n",
    "\n",
    "start_time = time.time()\n",
    "db = DBSCAN(eps=epsilon, min_samples=1, algorithm='ball_tree', metric='haversine').fit(np.radians(coords))\n",
    "cluster_labels = db.labels_\n",
    "\n",
    "# get the number of clusters\n",
    "num_clusters = len(set(cluster_labels))\n",
    "\n",
    "# all done, print the outcome\n",
    "message = 'Clustered {:,} points down to {:,} clusters, for {:.1f}% compression in {:,.2f} seconds'\n",
    "print(message.format(len(data1), num_clusters, 100*(1 - float(num_clusters) / len(data1)), time.time()-start_time))"
   ]
  },
  {
   "cell_type": "markdown",
   "metadata": {},
   "source": [
    "### Here we are clsutering all locations which are nearby using DBSCAN clustering technical by which we can avoid using the columns Lat and Lon and just have an additional new column called clusters which has the Cluster labels"
   ]
  },
  {
   "cell_type": "code",
   "execution_count": 948,
   "metadata": {},
   "outputs": [],
   "source": [
    "data1[\"Cluster\"] = cluster_labels\n"
   ]
  },
  {
   "cell_type": "code",
   "execution_count": 949,
   "metadata": {},
   "outputs": [],
   "source": [
    "###Dropping these columns as they were used to make new features by feature engineering\n",
    "\n",
    "data1 = data1.drop([\"Latitude\",\"Longitude\",\"Cuisines\",\"Address\",\"Locality Verbose\"],1)"
   ]
  },
  {
   "cell_type": "code",
   "execution_count": 950,
   "metadata": {},
   "outputs": [
    {
     "data": {
      "text/plain": [
       "Index(['Restaurant ID', 'Restaurant Name', 'City', 'Locality',\n",
       "       'Average Cost for two', 'Has Table booking', 'Has Online delivery',\n",
       "       'Is delivering now', 'Switch to order menu', 'Price range',\n",
       "       'Aggregate rating', 'Rating color', 'Rating text', 'Votes', 'length',\n",
       "       'Number of Cuisines', 'Cluster'],\n",
       "      dtype='object')"
      ]
     },
     "execution_count": 950,
     "metadata": {},
     "output_type": "execute_result"
    }
   ],
   "source": [
    "data1.columns"
   ]
  },
  {
   "cell_type": "code",
   "execution_count": 951,
   "metadata": {},
   "outputs": [],
   "source": [
    "data1 = data1.drop([\"Restaurant ID\",\"Switch to order menu\",\"Rating color\",\"Restaurant Name\"],1)"
   ]
  },
  {
   "cell_type": "code",
   "execution_count": 952,
   "metadata": {},
   "outputs": [],
   "source": [
    "### making a new feature by just including the area name from the address of the city \n",
    "\n",
    "data1[\"Locality\"] = data1[\"Locality\"].apply(lambda x: x.split(\",\")[-1] if len(x.split(\",\"))>1 else x)"
   ]
  },
  {
   "cell_type": "code",
   "execution_count": 953,
   "metadata": {},
   "outputs": [],
   "source": [
    "### Comverting the columns with Yes and No into Zeros and ones making it ordinal\n",
    "\n",
    "mapping = {\"No\":0, \"Yes\":1}\n",
    "data1[\"Has Table booking\"].replace(mapping, inplace=True)\n",
    "data1[\"Has Online delivery\"].replace(mapping, inplace=True)\n",
    "data1[\"Is delivering now\"].replace(mapping, inplace=True)\n"
   ]
  },
  {
   "cell_type": "code",
   "execution_count": 954,
   "metadata": {},
   "outputs": [
    {
     "data": {
      "text/html": [
       "<div>\n",
       "<style scoped>\n",
       "    .dataframe tbody tr th:only-of-type {\n",
       "        vertical-align: middle;\n",
       "    }\n",
       "\n",
       "    .dataframe tbody tr th {\n",
       "        vertical-align: top;\n",
       "    }\n",
       "\n",
       "    .dataframe thead th {\n",
       "        text-align: right;\n",
       "    }\n",
       "</style>\n",
       "<table border=\"1\" class=\"dataframe\">\n",
       "  <thead>\n",
       "    <tr style=\"text-align: right;\">\n",
       "      <th></th>\n",
       "      <th>City</th>\n",
       "      <th>Locality</th>\n",
       "      <th>Average Cost for two</th>\n",
       "      <th>Has Table booking</th>\n",
       "      <th>Has Online delivery</th>\n",
       "      <th>Is delivering now</th>\n",
       "      <th>Price range</th>\n",
       "      <th>Aggregate rating</th>\n",
       "      <th>Rating text</th>\n",
       "      <th>Votes</th>\n",
       "      <th>length</th>\n",
       "      <th>Number of Cuisines</th>\n",
       "      <th>Cluster</th>\n",
       "    </tr>\n",
       "  </thead>\n",
       "  <tbody>\n",
       "    <tr>\n",
       "      <th>624</th>\n",
       "      <td>Agra</td>\n",
       "      <td>Agra Cantt</td>\n",
       "      <td>850</td>\n",
       "      <td>0</td>\n",
       "      <td>0</td>\n",
       "      <td>0</td>\n",
       "      <td>3</td>\n",
       "      <td>3.9</td>\n",
       "      <td>Good</td>\n",
       "      <td>140</td>\n",
       "      <td>10</td>\n",
       "      <td>3</td>\n",
       "      <td>0</td>\n",
       "    </tr>\n",
       "    <tr>\n",
       "      <th>625</th>\n",
       "      <td>Agra</td>\n",
       "      <td>Agra Cantt</td>\n",
       "      <td>700</td>\n",
       "      <td>0</td>\n",
       "      <td>0</td>\n",
       "      <td>0</td>\n",
       "      <td>2</td>\n",
       "      <td>3.5</td>\n",
       "      <td>Good</td>\n",
       "      <td>71</td>\n",
       "      <td>19</td>\n",
       "      <td>3</td>\n",
       "      <td>1</td>\n",
       "    </tr>\n",
       "    <tr>\n",
       "      <th>626</th>\n",
       "      <td>Agra</td>\n",
       "      <td>Agra Cantt</td>\n",
       "      <td>500</td>\n",
       "      <td>0</td>\n",
       "      <td>0</td>\n",
       "      <td>0</td>\n",
       "      <td>2</td>\n",
       "      <td>3.6</td>\n",
       "      <td>Good</td>\n",
       "      <td>94</td>\n",
       "      <td>23</td>\n",
       "      <td>2</td>\n",
       "      <td>0</td>\n",
       "    </tr>\n",
       "    <tr>\n",
       "      <th>627</th>\n",
       "      <td>Agra</td>\n",
       "      <td>Civil Lines</td>\n",
       "      <td>400</td>\n",
       "      <td>0</td>\n",
       "      <td>0</td>\n",
       "      <td>0</td>\n",
       "      <td>2</td>\n",
       "      <td>4.0</td>\n",
       "      <td>Very Good</td>\n",
       "      <td>87</td>\n",
       "      <td>37</td>\n",
       "      <td>1</td>\n",
       "      <td>2</td>\n",
       "    </tr>\n",
       "    <tr>\n",
       "      <th>628</th>\n",
       "      <td>Agra</td>\n",
       "      <td>Civil Lines</td>\n",
       "      <td>1000</td>\n",
       "      <td>0</td>\n",
       "      <td>0</td>\n",
       "      <td>0</td>\n",
       "      <td>3</td>\n",
       "      <td>4.2</td>\n",
       "      <td>Very Good</td>\n",
       "      <td>177</td>\n",
       "      <td>14</td>\n",
       "      <td>4</td>\n",
       "      <td>3</td>\n",
       "    </tr>\n",
       "  </tbody>\n",
       "</table>\n",
       "</div>"
      ],
      "text/plain": [
       "     City     Locality  Average Cost for two  Has Table booking  \\\n",
       "624  Agra   Agra Cantt                   850                  0   \n",
       "625  Agra   Agra Cantt                   700                  0   \n",
       "626  Agra   Agra Cantt                   500                  0   \n",
       "627  Agra  Civil Lines                   400                  0   \n",
       "628  Agra  Civil Lines                  1000                  0   \n",
       "\n",
       "     Has Online delivery  Is delivering now  Price range  Aggregate rating  \\\n",
       "624                    0                  0            3               3.9   \n",
       "625                    0                  0            2               3.5   \n",
       "626                    0                  0            2               3.6   \n",
       "627                    0                  0            2               4.0   \n",
       "628                    0                  0            3               4.2   \n",
       "\n",
       "    Rating text  Votes  length  Number of Cuisines  Cluster  \n",
       "624        Good    140      10                   3        0  \n",
       "625        Good     71      19                   3        1  \n",
       "626        Good     94      23                   2        0  \n",
       "627   Very Good     87      37                   1        2  \n",
       "628   Very Good    177      14                   4        3  "
      ]
     },
     "execution_count": 954,
     "metadata": {},
     "output_type": "execute_result"
    }
   ],
   "source": [
    "data1.head()"
   ]
  },
  {
   "cell_type": "code",
   "execution_count": 955,
   "metadata": {},
   "outputs": [
    {
     "data": {
      "text/plain": [
       "<matplotlib.axes._subplots.AxesSubplot at 0x1a380c4358>"
      ]
     },
     "execution_count": 955,
     "metadata": {},
     "output_type": "execute_result"
    },
    {
     "data": {
      "image/png": "[encoded data removed]",
      "text/plain": [
       "<matplotlib.figure.Figure at 0x1a380c45f8>"
      ]
     },
     "metadata": {},
     "output_type": "display_data"
    }
   ],
   "source": [
    "cmap = sns.diverging_palette(220, 10, as_cmap=True)\n",
    "\n",
    "# Draw the heatmap with the mask and correct aspect ratio\n",
    "sns.heatmap(data1.corr(),  cmap=cmap, vmax=.3, center=0,\n",
    "            square=True, linewidths=.5, cbar_kws={\"shrink\": .5})"
   ]
  },
  {
   "cell_type": "markdown",
   "metadata": {},
   "source": [
    "#### Using the heatmap to understand if there can be any more features generated which are co-related to each other"
   ]
  },
  {
   "cell_type": "code",
   "execution_count": 956,
   "metadata": {},
   "outputs": [],
   "source": [
    "data1 = data1[data1[\"Average Cost for two\"] != 0]"
   ]
  },
  {
   "cell_type": "code",
   "execution_count": 957,
   "metadata": {},
   "outputs": [
    {
     "data": {
      "text/plain": [
       "<matplotlib.axes._subplots.AxesSubplot at 0x1a380e1e48>"
      ]
     },
     "execution_count": 957,
     "metadata": {},
     "output_type": "execute_result"
    },
    {
     "data": {
      "image/png": "[encoded data removed]",
      "text/plain": [
       "<matplotlib.figure.Figure at 0x1a380d6b38>"
      ]
     },
     "metadata": {},
     "output_type": "display_data"
    }
   ],
   "source": [
    "sns.distplot(data1[\"Average Cost for two\"])"
   ]
  },
  {
   "cell_type": "markdown",
   "metadata": {},
   "source": [
    "### Seeing the distribution of the column Average cost for two we come to know that the distribution is right skewed, next applying log transformation we try to make it simillar to normal distribution"
   ]
  },
  {
   "cell_type": "code",
   "execution_count": 958,
   "metadata": {},
   "outputs": [
    {
     "data": {
      "text/plain": [
       "<matplotlib.axes._subplots.AxesSubplot at 0x1a37fe3cf8>"
      ]
     },
     "execution_count": 958,
     "metadata": {},
     "output_type": "execute_result"
    },
    {
     "data": {
      "image/png": "[encoded data removed]",
      "text/plain": [
       "<matplotlib.figure.Figure at 0x1a3779a940>"
      ]
     },
     "metadata": {},
     "output_type": "display_data"
    }
   ],
   "source": [
    "sns.distplot(np.log(Y[\"Average Cost for two\"]))"
   ]
  },
  {
   "cell_type": "code",
   "execution_count": 960,
   "metadata": {},
   "outputs": [],
   "source": [
    "data1[\"Average Cost for two\"] = np.log(data1[\"Average Cost for two\"])"
   ]
  },
  {
   "cell_type": "markdown",
   "metadata": {},
   "source": [
    "### Data Modeling"
   ]
  },
  {
   "cell_type": "code",
   "execution_count": 961,
   "metadata": {},
   "outputs": [],
   "source": [
    "def convert_category(column_name):\n",
    "    \"\"\"\n",
    "    input: column_name ---> string\n",
    "    output: none\n",
    "    \n",
    "    This function converts an string series into ordinal series\n",
    "    \"\"\"\n",
    "    data1[column_name] = data1[column_name].astype(\"category\")\n",
    "    data1[column_name]= data1[column_name].cat.codes"
   ]
  },
  {
   "cell_type": "code",
   "execution_count": 834,
   "metadata": {},
   "outputs": [],
   "source": [
    "convert_category(\"Rating text\")\n",
    "convert_category(\"City\")\n",
    "convert_category(\"Locality\")"
   ]
  },
  {
   "cell_type": "code",
   "execution_count": 835,
   "metadata": {},
   "outputs": [],
   "source": [
    "X = data1[\"Price range\"]\n",
    "Y = data1.drop([\"Price range\"],1)"
   ]
  },
  {
   "cell_type": "code",
   "execution_count": 839,
   "metadata": {},
   "outputs": [
    {
     "name": "stderr",
     "output_type": "stream",
     "text": [
      "/anaconda3/lib/python3.6/site-packages/sklearn/model_selection/_split.py:2026: FutureWarning: From version 0.21, test_size will always complement train_size unless both are specified.\n",
      "  FutureWarning)\n"
     ]
    }
   ],
   "source": [
    "X_train, X_test, y_train, y_test = train_test_split(Y, X, train_size=0.8, random_state=42)"
   ]
  },
  {
   "cell_type": "code",
   "execution_count": 840,
   "metadata": {},
   "outputs": [],
   "source": [
    "models = [ExtraTreesClassifier(),GaussianNB(),RandomForestClassifier(random_state = 0),LogisticRegression(),\n",
    "         GradientBoostingClassifier(),DecisionTreeClassifier(),KNeighborsClassifier()]\n",
    "x = []\n",
    "for model in models:\n",
    "    model.fit(X_train,y_train)\n",
    "    x.append(model.score(X_test,y_test)*100)"
   ]
  },
  {
   "cell_type": "code",
   "execution_count": 841,
   "metadata": {},
   "outputs": [
    {
     "data": {
      "text/html": [
       "<div>\n",
       "<style scoped>\n",
       "    .dataframe tbody tr th:only-of-type {\n",
       "        vertical-align: middle;\n",
       "    }\n",
       "\n",
       "    .dataframe tbody tr th {\n",
       "        vertical-align: top;\n",
       "    }\n",
       "\n",
       "    .dataframe thead th {\n",
       "        text-align: right;\n",
       "    }\n",
       "</style>\n",
       "<table border=\"1\" class=\"dataframe\">\n",
       "  <thead>\n",
       "    <tr style=\"text-align: right;\">\n",
       "      <th></th>\n",
       "      <th>Model</th>\n",
       "      <th>Scores</th>\n",
       "    </tr>\n",
       "  </thead>\n",
       "  <tbody>\n",
       "    <tr>\n",
       "      <th>4</th>\n",
       "      <td>GradientBoostingClassifier</td>\n",
       "      <td>97.770945</td>\n",
       "    </tr>\n",
       "    <tr>\n",
       "      <th>5</th>\n",
       "      <td>DecisionTreeClassifier</td>\n",
       "      <td>97.617218</td>\n",
       "    </tr>\n",
       "    <tr>\n",
       "      <th>2</th>\n",
       "      <td>RandomForestClassifier</td>\n",
       "      <td>95.772483</td>\n",
       "    </tr>\n",
       "    <tr>\n",
       "      <th>0</th>\n",
       "      <td>ExtraTreesClassifier</td>\n",
       "      <td>93.159108</td>\n",
       "    </tr>\n",
       "    <tr>\n",
       "      <th>3</th>\n",
       "      <td>LogisticRegression</td>\n",
       "      <td>77.248271</td>\n",
       "    </tr>\n",
       "    <tr>\n",
       "      <th>1</th>\n",
       "      <td>GaussianNB</td>\n",
       "      <td>60.261337</td>\n",
       "    </tr>\n",
       "    <tr>\n",
       "      <th>6</th>\n",
       "      <td>KNeighborsClassifier</td>\n",
       "      <td>52.344350</td>\n",
       "    </tr>\n",
       "  </tbody>\n",
       "</table>\n",
       "</div>"
      ],
      "text/plain": [
       "                        Model     Scores\n",
       "4  GradientBoostingClassifier  97.770945\n",
       "5      DecisionTreeClassifier  97.617218\n",
       "2      RandomForestClassifier  95.772483\n",
       "0        ExtraTreesClassifier  93.159108\n",
       "3          LogisticRegression  77.248271\n",
       "1                  GaussianNB  60.261337\n",
       "6        KNeighborsClassifier  52.344350"
      ]
     },
     "execution_count": 841,
     "metadata": {},
     "output_type": "execute_result"
    }
   ],
   "source": [
    "model = pd.DataFrame([\"ExtraTreesClassifier\",\"GaussianNB\",\"RandomForestClassifier\",\"LogisticRegression\",\n",
    "         \"GradientBoostingClassifier\",\"DecisionTreeClassifier\",\"KNeighborsClassifier\"],columns = [\"Model\"])\n",
    "model[\"Scores\"] = x\n",
    "model.sort_values(by = \"Scores\",ascending=False)"
   ]
  },
  {
   "cell_type": "markdown",
   "metadata": {},
   "source": [
    "#### As we can see GradientBoostingClassifer has the highest accuracy and we will use the same for prediction of price range"
   ]
  },
  {
   "cell_type": "code",
   "execution_count": 842,
   "metadata": {},
   "outputs": [
    {
     "name": "stdout",
     "output_type": "stream",
     "text": [
      "[[497   0   0   0]\n",
      " [  5 512   0   0]\n",
      " [  0  12 206   1]\n",
      " [  0   0  11  57]]\n",
      "\n",
      "\n",
      "             precision    recall  f1-score   support\n",
      "\n",
      "          1       0.99      1.00      0.99       497\n",
      "          2       0.98      0.99      0.98       517\n",
      "          3       0.95      0.94      0.94       219\n",
      "          4       0.98      0.84      0.90        68\n",
      "\n",
      "avg / total       0.98      0.98      0.98      1301\n",
      "\n"
     ]
    }
   ],
   "source": [
    "model = GradientBoostingClassifier()\n",
    "model.fit(X_train,y_train)\n",
    "y_pred = model.predict(X_test)\n",
    "print(confusion_matrix(y_test, y_pred))\n",
    "print('\\n')\n",
    "print(classification_report(y_test, y_pred))"
   ]
  }
 ],
 "metadata": {
  "kernelspec": {
   "display_name": "Python 3",
   "language": "python",
   "name": "python3"
  },
  "language_info": {
   "codemirror_mode": {
    "name": "ipython",
    "version": 3
   },
   "file_extension": ".py",
   "mimetype": "text/x-python",
   "name": "python",
   "nbconvert_exporter": "python",
   "pygments_lexer": "ipython3",
   "version": "3.6.4"
  }
 },
 "nbformat": 4,
 "nbformat_minor": 2
}
